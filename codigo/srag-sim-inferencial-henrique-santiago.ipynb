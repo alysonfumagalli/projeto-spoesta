{
  "nbformat": 4,
  "nbformat_minor": 0,
  "metadata": {
    "colab": {
      "provenance": [],
      "authorship_tag": "ABX9TyPzF+GG8HEHFxYhIk81lO3A"
    },
    "kernelspec": {
      "name": "python3",
      "display_name": "Python 3"
    },
    "language_info": {
      "name": "python"
    }
  },
  "cells": [
    {
      "cell_type": "code",
      "execution_count": 1,
      "metadata": {
        "id": "r97zd2WHgoQP"
      },
      "outputs": [],
      "source": [
        "#@title **Importar bibliotecas necessárias** { vertical-output: true, form-width: \"60%\" }\n",
        "\n",
        "import pandas as pd\n",
        "import numpy as np\n",
        "import matplotlib.pyplot as plt\n",
        "import seaborn as sns\n",
        "from scipy import stats\n",
        "import gdown"
      ]
    },
    {
      "cell_type": "markdown",
      "source": [
        "## Importar amostras de 100.000 em cada dataset por link compartilhado"
      ],
      "metadata": {
        "id": "T25qDqJ3klb2"
      }
    },
    {
      "cell_type": "code",
      "source": [
        "# Amostra SRAG\n",
        "srag_file_id = '1E1N10m0YPm0g2PvAnSO5YYc1sFfqrzRi'\n",
        "srag_url = f'https://drive.google.com/uc?id={srag_file_id}'\n",
        "srag_output = 'SRAG-2021-RESIZED.csv'\n",
        "gdown.download(srag_url, srag_output, quiet=False)\n",
        "df_srag = pd.read_csv(srag_output, sep=',')\n",
        "\n",
        "# Amostra SIM\n",
        "sim_file_id = '1P1-TtXlJMgyvVPStpAWHUES55ZqSMoq2'\n",
        "sim_url = f'https://drive.google.com/uc?id={sim_file_id}'\n",
        "sim_output = 'SIM-2021-RESIZED.csv'\n",
        "gdown.download(sim_url, sim_output, quiet=False)\n",
        "df_sim = pd.read_csv(sim_output, sep=',')\n"
      ],
      "metadata": {
        "colab": {
          "base_uri": "https://localhost:8080/"
        },
        "id": "eCaAc9xZg-Sq",
        "outputId": "3358ff6e-2e38-471b-9444-f7c69fc36cc5"
      },
      "execution_count": 2,
      "outputs": [
        {
          "output_type": "stream",
          "name": "stderr",
          "text": [
            "Downloading...\n",
            "From: https://drive.google.com/uc?id=1E1N10m0YPm0g2PvAnSO5YYc1sFfqrzRi\n",
            "To: /content/SRAG-2021-RESIZED.csv\n",
            "100%|██████████| 56.7M/56.7M [00:00<00:00, 135MB/s]\n",
            "/tmp/ipython-input-2-738819002.py:6: DtypeWarning: Columns (59,61,62,63,91,105,114,116,117,118,122,143) have mixed types. Specify dtype option on import or set low_memory=False.\n",
            "  df_srag = pd.read_csv(srag_output, sep=',')\n",
            "Downloading...\n",
            "From: https://drive.google.com/uc?id=1P1-TtXlJMgyvVPStpAWHUES55ZqSMoq2\n",
            "To: /content/SIM-2021-RESIZED.csv\n",
            "100%|██████████| 29.5M/29.5M [00:00<00:00, 88.1MB/s]\n",
            "/tmp/ipython-input-2-738819002.py:13: DtypeWarning: Columns (66) have mixed types. Specify dtype option on import or set low_memory=False.\n",
            "  df_sim = pd.read_csv(sim_output, sep=',')\n"
          ]
        }
      ]
    },
    {
      "cell_type": "markdown",
      "source": [
        "## Importar arquivos CSV (Caso a opção anterior não funcione)\n",
        "- Links:\n",
        "\n",
        "  - SRAG: https://drive.usercontent.google.com/uc?id=1E1N10m0YPm0g2PvAnSO5YYc1sFfqrzRi&export=download\n",
        "  - SIM: https://drive.usercontent.google.com/uc?id=1P1-TtXlJMgyvVPStpAWHUES55ZqSMoq2&export=download\n",
        "\n",
        "- Baixe os arquivos das amostras\n",
        "- Crie uma pasta \"Colab Notebooks\" caso não exista e faça o uploado dos CSVs nela."
      ],
      "metadata": {
        "id": "x3p3SIIzkvFC"
      }
    },
    {
      "cell_type": "code",
      "source": [
        "from google.colab import drive\n",
        "drive.mount('/content/drive/', force_remount=True)\n",
        "\n",
        "df_srag = pd.read_csv('/content/drive/MyDrive/Colab Notebooks/SRAG-2021-RESIZED.csv', sep=',')\n",
        "\n",
        "df_sim = pd.read_csv('/content/drive/MyDrive/Colab Notebooks/SIM-2021-RESIZED.csv', sep=',')"
      ],
      "metadata": {
        "colab": {
          "base_uri": "https://localhost:8080/"
        },
        "id": "bTM99FLliqG-",
        "outputId": "22cbeb72-136f-43b4-9046-739a5e0d1904"
      },
      "execution_count": 11,
      "outputs": [
        {
          "output_type": "stream",
          "name": "stdout",
          "text": [
            "Mounted at /content/drive/\n"
          ]
        },
        {
          "output_type": "stream",
          "name": "stderr",
          "text": [
            "/tmp/ipython-input-11-1964604918.py:4: DtypeWarning: Columns (59,61,62,63,91,105,114,116,117,118,122,143) have mixed types. Specify dtype option on import or set low_memory=False.\n",
            "  df_srag = pd.read_csv('/content/drive/MyDrive/Colab Notebooks/SRAG-2021-RESIZED.csv', sep=',')\n",
            "/tmp/ipython-input-11-1964604918.py:6: DtypeWarning: Columns (66) have mixed types. Specify dtype option on import or set low_memory=False.\n",
            "  df_sim = pd.read_csv('/content/drive/MyDrive/Colab Notebooks/SIM-2021-RESIZED.csv', sep=',')\n"
          ]
        }
      ]
    },
    {
      "cell_type": "markdown",
      "source": [
        "## Análise: Comparação entre proporções de óbitos por sexo entre SRAG e SIM"
      ],
      "metadata": {
        "id": "jCge2FUn-RYO"
      }
    },
    {
      "cell_type": "code",
      "source": [
        "# Filtrar SRAG: apenas óbitos confirmados por COVID-19\n",
        "df_srag_covid_obitos = df_srag[\n",
        "    (df_srag['CLASSI_FIN'] == 5) &\n",
        "    (df_srag['EVOLUCAO'] == 2) &\n",
        "    (df_srag['CS_SEXO'].isin(['M', 'F']))\n",
        "]\n",
        "\n",
        "# Contar por sexo no SRAG\n",
        "srag_contagem_sexo = df_srag_covid_obitos['CS_SEXO'].value_counts()\n",
        "total_sexo_srag = srag_contagem_sexo.sum()\n",
        "prop_srag_masc = srag_contagem_sexo.get('M', 0) / total_sexo_srag\n",
        "prop_srag_fem = srag_contagem_sexo.get('F', 0) / total_sexo_srag\n",
        "\n",
        "# Filtrar SIM: apenas óbitos por COVID-19\n",
        "cid_covid = ['U071', 'U072', 'B342']\n",
        "df_sim_covid = df_sim[df_sim['CAUSABAS'].astype(str).str.upper().isin(cid_covid)]\n",
        "\n",
        "# Contar por sexo no SIM\n",
        "sim_contagem_sexo = df_sim_covid['SEXO'].value_counts()\n",
        "total_sexo_sim = sim_contagem_sexo.get(1, 0) + sim_contagem_sexo.get(2, 0)\n",
        "prop_sim_masc = sim_contagem_sexo.get(1, 0) / total_sexo_sim\n",
        "prop_sim_fem = sim_contagem_sexo.get(2, 0) / total_sexo_sim\n",
        "\n",
        "# Mostrar proporções\n",
        "print(f\"Proporção de óbitos masculinos (SRAG): {prop_srag_masc:.9f}\")\n",
        "print(f\"Proporção de óbitos masculinos (SIM): {prop_sim_masc:.9f}\")\n",
        "print(f\"Proporção de óbitos femininos (SRAG): {prop_srag_fem:.9f}\")\n",
        "print(f\"Proporção de óbitos femininos (SIM): {prop_sim_fem:.9f}\")\n",
        "\n",
        "\n",
        "# Parâmetros para o teste\n",
        "x1 = srag_contagem_sexo.get('M', 0)\n",
        "n1 = total_sexo_srag\n",
        "x2 = sim_contagem_sexo.get(1, 0)\n",
        "n2 = total_sexo_sim\n",
        "\n",
        "# Proporções\n",
        "p1 = x1 / n1\n",
        "p2 = x2 / n2\n",
        "\n",
        "from scipy.stats import chi2_contingency\n",
        "\n",
        "tabela = np.array([\n",
        "    [x1, n1 - x1],  # [masculino, feminino] para SRAG\n",
        "    [x2, n2 - x2]   # [masculino, feminino] para SIM\n",
        "])\n",
        "\n",
        "# Teste qui-quadrado de independência\n",
        "chi2, p_chi2, dof, expected = chi2_contingency(tabela)\n",
        "\n",
        "# Resultados\n",
        "print(f\"\\nTeste Qui-quadrado de independência:\")\n",
        "print(f\"Valor do Qui-quadrado: {chi2:.4f}\")\n",
        "print(f\"Graus de liberdade: {dof}\")\n",
        "print(f\"P-valor: {p_chi2:.10f}\")\n",
        "\n",
        "# Interpretação\n",
        "alpha = 0.05\n",
        "if p_chi2 < alpha:\n",
        "    print(\"Há associação significativa entre sexo e sistema (SRAG vs SIM).\")\n",
        "else:\n",
        "    print(\"Não há associação significativa entre sexo e sistema (SRAG vs SIM).\")\n",
        "\n",
        "\n",
        "# Gráfico de barras agrupadas: Proporção de óbitos por sexo nos sistemas SRAG e SIM\n",
        "\n",
        "# Preparar dados para o gráfico\n",
        "sistemas = ['SRAG', 'SIM']\n",
        "proporcoes_masc = [prop_srag_masc, prop_sim_masc]\n",
        "proporcoes_fem = [prop_srag_fem, prop_sim_fem]\n",
        "\n",
        "x = np.arange(len(sistemas))\n",
        "largura = 0.35\n",
        "\n",
        "# Criar o gráfico\n",
        "fig, ax = plt.subplots(figsize=(8, 5))\n",
        "barras_masc = ax.bar(x - largura/2, proporcoes_masc, largura, label='Masculino')\n",
        "barras_fem = ax.bar(x + largura/2, proporcoes_fem, largura, label='Feminino')\n",
        "\n",
        "# Rótulos e título\n",
        "ax.set_ylabel('Proporção de óbitos')\n",
        "ax.set_title('Proporção de óbitos por sexo – SRAG vs SIM (COVID-19)')\n",
        "ax.set_xticks(x)\n",
        "ax.set_xticklabels(sistemas)\n",
        "ax.legend()\n",
        "\n",
        "# Mostrar valores percentuais nas barras\n",
        "for barras in [barras_masc, barras_fem]:\n",
        "    for barra in barras:\n",
        "        altura = barra.get_height()\n",
        "        ax.annotate(f'{altura:.1%}',\n",
        "                    xy=(barra.get_x() + barra.get_width() / 2, altura),\n",
        "                    xytext=(0, 3),\n",
        "                    textcoords=\"offset points\",\n",
        "                    ha='center', va='bottom')\n",
        "\n",
        "sns.despine()\n",
        "plt.tight_layout()\n",
        "plt.show()\n"
      ],
      "metadata": {
        "id": "0NSZPRR5b_Bi",
        "outputId": "51d24a57-3bac-4e73-9909-f331bb5f0734",
        "colab": {
          "base_uri": "https://localhost:8080/",
          "height": 681
        }
      },
      "execution_count": 128,
      "outputs": [
        {
          "output_type": "stream",
          "name": "stdout",
          "text": [
            "Proporção de óbitos masculinos (SRAG): 0.554715938\n",
            "Proporção de óbitos masculinos (SIM): 0.554650256\n",
            "Proporção de óbitos femininos (SRAG): 0.445284062\n",
            "Proporção de óbitos femininos (SIM): 0.445349744\n",
            "\n",
            "Teste Qui-quadrado de independência:\n",
            "Valor do Qui-quadrado: 0.0000\n",
            "Graus de liberdade: 1\n",
            "P-valor: 0.9964390434\n",
            "Não há associação significativa entre sexo e sistema (SRAG vs SIM).\n"
          ]
        },
        {
          "output_type": "display_data",
          "data": {
            "text/plain": [
              "<Figure size 800x500 with 1 Axes>"
            ],
            "image/png": "[encoded data removed]"
          },
          "metadata": {}
        }
      ]
    }
  ]
}