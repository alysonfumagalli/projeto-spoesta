{
  "nbformat": 4,
  "nbformat_minor": 0,
  "metadata": {
    "colab": {
      "provenance": [],
      "authorship_tag": "ABX9TyNQ9YZnhbVi8BCHzzSjC9sT"
    },
    "kernelspec": {
      "name": "python3",
      "display_name": "Python 3"
    },
    "language_info": {
      "name": "python"
    }
  },
  "cells": [
    {
      "cell_type": "code",
      "execution_count": 15,
      "metadata": {
        "id": "r97zd2WHgoQP"
      },
      "outputs": [],
      "source": [
        "#@title **Importar bibliotecas necessárias** { vertical-output: true, form-width: \"60%\" }\n",
        "\n",
        "import pandas as pd\n",
        "import numpy as np\n",
        "import matplotlib.pyplot as plt\n",
        "import seaborn as sns\n",
        "from scipy import stats\n",
        "import gdown"
      ]
    },
    {
      "cell_type": "markdown",
      "source": [
        "## Importar amostras de 100.000 em cada dataset por link compartilhado"
      ],
      "metadata": {
        "id": "T25qDqJ3klb2"
      }
    },
    {
      "cell_type": "code",
      "source": [
        "# Amostra SRAG\n",
        "srag_file_id = '1E1N10m0YPm0g2PvAnSO5YYc1sFfqrzRi'\n",
        "srag_url = f'https://drive.google.com/uc?id={srag_file_id}'\n",
        "srag_output = 'SRAG-2021-RESIZED.csv'\n",
        "gdown.download(srag_url, srag_output, quiet=False)\n",
        "df_srag = pd.read_csv(srag_output, sep=',')\n",
        "\n",
        "# Amostra SIM\n",
        "sim_file_id = '1P1-TtXlJMgyvVPStpAWHUES55ZqSMoq2'\n",
        "sim_url = f'https://drive.google.com/uc?id={sim_file_id}'\n",
        "sim_output = 'SIM-2021-RESIZED.csv'\n",
        "gdown.download(sim_url, sim_output, quiet=False)\n",
        "df_sim = pd.read_csv(sim_output, sep=',')\n"
      ],
      "metadata": {
        "colab": {
          "base_uri": "https://localhost:8080/"
        },
        "id": "eCaAc9xZg-Sq",
        "outputId": "75859e9b-ba07-4c83-99eb-2e7165458855"
      },
      "execution_count": 16,
      "outputs": [
        {
          "output_type": "stream",
          "name": "stderr",
          "text": [
            "Downloading...\n",
            "From: https://drive.google.com/uc?id=1E1N10m0YPm0g2PvAnSO5YYc1sFfqrzRi\n",
            "To: /content/SRAG-2021-RESIZED.csv\n",
            "100%|██████████| 56.7M/56.7M [00:00<00:00, 203MB/s]\n",
            "/tmp/ipython-input-16-738819002.py:6: DtypeWarning: Columns (59,61,62,63,91,105,114,116,117,118,122,143) have mixed types. Specify dtype option on import or set low_memory=False.\n",
            "  df_srag = pd.read_csv(srag_output, sep=',')\n",
            "Downloading...\n",
            "From: https://drive.google.com/uc?id=1P1-TtXlJMgyvVPStpAWHUES55ZqSMoq2\n",
            "To: /content/SIM-2021-RESIZED.csv\n",
            "100%|██████████| 29.5M/29.5M [00:00<00:00, 94.6MB/s]\n",
            "/tmp/ipython-input-16-738819002.py:13: DtypeWarning: Columns (66) have mixed types. Specify dtype option on import or set low_memory=False.\n",
            "  df_sim = pd.read_csv(sim_output, sep=',')\n"
          ]
        }
      ]
    },
    {
      "cell_type": "markdown",
      "source": [
        "## Importar arquivos CSV (Caso a opção anterior não funcione)\n",
        "- Links:\n",
        "\n",
        "  - SRAG: https://drive.usercontent.google.com/uc?id=1E1N10m0YPm0g2PvAnSO5YYc1sFfqrzRi&export=download\n",
        "  - SIM: https://drive.usercontent.google.com/uc?id=1P1-TtXlJMgyvVPStpAWHUES55ZqSMoq2&export=download\n",
        "\n",
        "- Baixe os arquivos das amostras\n",
        "- Crie uma pasta \"Colab Notebooks\" caso não exista e faça o uploado dos CSVs nela."
      ],
      "metadata": {
        "id": "x3p3SIIzkvFC"
      }
    },
    {
      "cell_type": "code",
      "source": [
        "from google.colab import drive\n",
        "drive.mount('/content/drive/', force_remount=True)\n",
        "\n",
        "df_srag = pd.read_csv('/content/drive/MyDrive/Colab Notebooks/SRAG-2021-RESIZED.csv', sep=',')\n",
        "\n",
        "df_sim = pd.read_csv('/content/drive/MyDrive/Colab Notebooks/SIM-2021-RESIZED.csv', sep=',')"
      ],
      "metadata": {
        "colab": {
          "base_uri": "https://localhost:8080/"
        },
        "id": "bTM99FLliqG-",
        "outputId": "2ccdac20-cd71-453e-e917-afa14b4a4ea2"
      },
      "execution_count": 33,
      "outputs": [
        {
          "output_type": "stream",
          "name": "stdout",
          "text": [
            "Mounted at /content/drive/\n"
          ]
        }
      ]
    }
  ]
}