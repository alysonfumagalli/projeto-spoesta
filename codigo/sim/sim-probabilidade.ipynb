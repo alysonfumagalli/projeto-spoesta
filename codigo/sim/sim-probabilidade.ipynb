{
  "nbformat": 4,
  "nbformat_minor": 0,
  "metadata": {
    "colab": {
      "provenance": [],
      "toc_visible": true
    },
    "kernelspec": {
      "name": "python3",
      "display_name": "Python 3"
    },
    "language_info": {
      "name": "python"
    }
  },
  "cells": [
    {
      "cell_type": "markdown",
      "source": [
        "# **CONFIGURAÇÕES INICIAIS**"
      ],
      "metadata": {
        "id": "mxYP8ks3R3JP"
      }
    },
    {
      "cell_type": "code",
      "execution_count": 3,
      "metadata": {
        "id": "z_6YW5poN4h3",
        "cellView": "form"
      },
      "outputs": [],
      "source": [
        "# @title **Importando Bibliotecas**\n",
        "\n",
        "# Para manipulação e análise de dados em tabelas (dataframes)\n",
        "import pandas as pd\n",
        "pd.set_option(\"display.precision\", 2)\n",
        "\n",
        "# Para cálculos númericos rápidos e eficientes com vetores e matrizes\n",
        "import numpy as np\n",
        "\n",
        "# Para criar gráficos e visualizações estáticas\n",
        "import matplotlib.pyplot as plt\n",
        "\n",
        "# Para visualização de dados estatísticas com gráficos mais bonitos e informativos\n",
        "import seaborn as sns\n",
        "\n",
        "# Para análises de probabilidade\n",
        "from scipy.stats import binom, poisson, norm, zscore\n",
        "\n",
        "# Para baixar o CSV via link do Drive\n",
        "import gdown"
      ]
    },
    {
      "cell_type": "markdown",
      "source": [
        "### **Importando o CSV via Link do Drive**"
      ],
      "metadata": {
        "id": "XWS_-kbSRvFG"
      }
    },
    {
      "cell_type": "code",
      "source": [
        "# ID do arquivo no Google Drive\n",
        "file_id = '19YSu2-PNFRcwnr8l2Rf8ReyrCWI2egC-'\n",
        "\n",
        "# Montar a URL de download direto\n",
        "url = f'https://drive.google.com/uc?id={file_id}'\n",
        "\n",
        "# Nome do arquivo a ser salvo localmente\n",
        "output = 'Mortalidade_Geral_2021.csv'\n",
        "\n",
        "# Fazer o download\n",
        "gdown.download(url, output, quiet=False)\n",
        "\n",
        "# Carregar o CSV\n",
        "df = pd.read_csv(output, sep=';')\n",
        "\n",
        "# Impedir importação manual\n",
        "executar_proxima_celula = False"
      ],
      "metadata": {
        "id": "xLur9jBcQc6f",
        "colab": {
          "base_uri": "https://localhost:8080/"
        },
        "outputId": "7ed03c5c-b96e-4978-ea83-49f0b508912f"
      },
      "execution_count": 4,
      "outputs": [
        {
          "output_type": "stream",
          "name": "stderr",
          "text": [
            "Downloading...\n",
            "From (original): https://drive.google.com/uc?id=19YSu2-PNFRcwnr8l2Rf8ReyrCWI2egC-\n",
            "From (redirected): https://drive.google.com/uc?id=19YSu2-PNFRcwnr8l2Rf8ReyrCWI2egC-&confirm=t&uuid=b8559e59-d99a-4bea-b778-ec6e7d198b7d\n",
            "To: /content/Mortalidade_Geral_2021.csv\n",
            "100%|██████████| 633M/633M [00:05<00:00, 114MB/s]\n",
            "/tmp/ipython-input-4-1181111901.py:16: DtypeWarning: Columns (66) have mixed types. Specify dtype option on import or set low_memory=False.\n",
            "  df = pd.read_csv(output, sep=';')\n"
          ]
        }
      ]
    },
    {
      "cell_type": "code",
      "source": [
        "#@title **Carregando o CSV sem Importar Novamente**\n",
        "\n",
        "# Nome do arquivo a ser salvo localmente\n",
        "output = 'Mortalidade_Geral_2021.csv'\n",
        "\n",
        "# Carregar o CSV\n",
        "df = pd.read_csv(output, sep=';')"
      ],
      "metadata": {
        "colab": {
          "base_uri": "https://localhost:8080/"
        },
        "id": "4VvvT3QLLKng",
        "outputId": "34619749-c28e-43bb-8a86-edf871b38699"
      },
      "execution_count": 5,
      "outputs": [
        {
          "output_type": "stream",
          "name": "stderr",
          "text": [
            "/tmp/ipython-input-5-2916767292.py:7: DtypeWarning: Columns (66) have mixed types. Specify dtype option on import or set low_memory=False.\n",
            "  df = pd.read_csv(output, sep=';')\n"
          ]
        }
      ]
    },
    {
      "cell_type": "markdown",
      "source": [
        "### **Importando o CSV Manualmente (caso o método anterior não funcione)**"
      ],
      "metadata": {
        "id": "Q4kQ6zCFVQ6W"
      }
    },
    {
      "cell_type": "markdown",
      "source": [
        "Caso o método anterior não funcione, realize o upload manual do CSV:\n",
        "\n",
        "*   Baixe o arquivo do dataset [aqui](https://opendatasus.saude.gov.br/dataset/sim/resource/2dee2fc9-d19f-41bc-b058-6d4154f126ab).\n",
        "*   Crie uma pasta \"Colab Notebooks\" no Drive e faça o upload do CSV nela."
      ],
      "metadata": {
        "id": "bfLVJNV4SopB"
      }
    },
    {
      "cell_type": "code",
      "source": [
        "#@title { vertical-output: true, form-width: \"40%\" }\n",
        "from google.colab import drive\n",
        "\n",
        "if not executar_proxima_celula:\n",
        "  print(\"Esta célula não foi executada pois a célula anterior já baixou o CSV.\")\n",
        "else:\n",
        "  drive.mount('/content/drive/', force_remount=True)\n",
        "  df = pd.read_csv('/content/drive/MyDrive/Colab Notebooks/Mortalidade_Geral_2021.csv', sep=';')"
      ],
      "metadata": {
        "id": "hoZm4X6CS-5f"
      },
      "execution_count": null,
      "outputs": []
    },
    {
      "cell_type": "markdown",
      "source": [
        "### **Preparação dos Dados**\n"
      ],
      "metadata": {
        "id": "3FX3l2rlVtjR"
      }
    },
    {
      "cell_type": "code",
      "source": [
        "# Filtrando somente as colunas a serem analisadas\n",
        "colunas_desejadas = [\n",
        "    'DTOBITO',      # Data do óbito\n",
        "    'IDADE',        # Idade em formato codificado\n",
        "    'SEXO',         # 1 = masculino, 2 = feminino\n",
        "    'RACACOR',      # Raça/Cor\n",
        "    'OCUP',         # Ocupação\n",
        "    'LOCOCOR',      # Local de ocorrência do óbito\n",
        "    'ASSISTMED',    # Assistência médica\n",
        "    'CAUSABAS',     # Causa básica da morte (CID-10)\n",
        "    'TPOBITOCOR',   # Tipo de local do óbito\n",
        "    'NECROPSIA'     # Execução ou não de necropsia\n",
        "]\n",
        "\n",
        "sim = df[colunas_desejadas]\n",
        "\n",
        "# Filtrando registros em que idade ≥ 1\n",
        "sim = sim[sim['IDADE'].astype(str).str.startswith('4')]\n",
        "\n",
        "# Retirando uma amostra do dataset\n",
        "sim = sim.sample(n=100000, random_state=42)\n",
        "\n",
        "# Decodificando variáveis categóricas\n",
        "sim['SEXO_DESC'] = sim['SEXO'].map({1: 'Masculino', 2: 'Feminino'})\n",
        "sim['SEXO_DESC'] = sim['SEXO_DESC'].fillna('Ignorado')\n",
        "\n",
        "sim['ASSISTMED_DESC'] = sim['ASSISTMED'].map({\n",
        "    1: 'Sim',\n",
        "    2: 'Não',\n",
        "    9: 'Ignorado'\n",
        "})\n",
        "\n",
        "sim['LOCOCOR_DESC'] = sim['LOCOCOR'].map({\n",
        "    1: 'Hospital',\n",
        "    2: 'Outro estabelecimento de saúde',\n",
        "    3: 'Domicílio',\n",
        "    4: 'Via pública',\n",
        "    5: 'Outros',\n",
        "    9: 'Ignorado'\n",
        "})\n",
        "\n",
        "sim['NECROPSIA_DESC'] = sim['NECROPSIA'].map({\n",
        "    1: 'Realizada',\n",
        "    2: 'Não realizada',\n",
        "    9: 'Ignorado'\n",
        "})\n",
        "\n",
        "# Transformando a idade\n",
        "def converter_idade(codigo):\n",
        "    codigo = str(int(codigo)).zfill(3)\n",
        "    valor = int(codigo[1:])\n",
        "    return valor\n",
        "\n",
        "sim['IDADE_ANOS'] = sim['IDADE'].apply(converter_idade)\n",
        "\n",
        "sim.head()"
      ],
      "metadata": {
        "colab": {
          "base_uri": "https://localhost:8080/",
          "height": 206
        },
        "id": "jzGx8kx2WA4D",
        "outputId": "82e9d889-fee4-4f1d-ee87-6d65c0c36b25"
      },
      "execution_count": 8,
      "outputs": [
        {
          "output_type": "execute_result",
          "data": {
            "text/plain": [
              "          DTOBITO  IDADE  SEXO  RACACOR      OCUP  LOCOCOR  ASSISTMED  \\\n",
              "225649    5092021    466     1      4.0  715505.0        1        1.0   \n",
              "280731   20042021    443     2      4.0  999992.0        3        2.0   \n",
              "1515340  25042021    471     2      NaN       NaN        1        1.0   \n",
              "1156536  24022021    473     1      1.0  999993.0        1        NaN   \n",
              "1181779  11022021    454     1      2.0       NaN        1        9.0   \n",
              "\n",
              "        CAUSABAS  TPOBITOCOR  NECROPSIA  SEXO_DESC ASSISTMED_DESC  \\\n",
              "225649       R99         NaN        2.0  Masculino            Sim   \n",
              "280731      X959         9.0        1.0   Feminino            Não   \n",
              "1515340     I509         NaN        2.0   Feminino            Sim   \n",
              "1156536     D599         NaN        NaN  Masculino            NaN   \n",
              "1181779     B342         NaN        9.0  Masculino       Ignorado   \n",
              "\n",
              "        LOCOCOR_DESC NECROPSIA_DESC  IDADE_ANOS  \n",
              "225649      Hospital  Não realizada          66  \n",
              "280731     Domicílio      Realizada          43  \n",
              "1515340     Hospital  Não realizada          71  \n",
              "1156536     Hospital            NaN          73  \n",
              "1181779     Hospital       Ignorado          54  "
            ],
            "text/html": [
              "\n",
              "  <div id=\"df-dec538aa-1d48-46e2-a5c4-38b212809929\" class=\"colab-df-container\">\n",
              "    <div>\n",
              "<style scoped>\n",
              "    .dataframe tbody tr th:only-of-type {\n",
              "        vertical-align: middle;\n",
              "    }\n",
              "\n",
              "    .dataframe tbody tr th {\n",
              "        vertical-align: top;\n",
              "    }\n",
              "\n",
              "    .dataframe thead th {\n",
              "        text-align: right;\n",
              "    }\n",
              "</style>\n",
              "<table border=\"1\" class=\"dataframe\">\n",
              "  <thead>\n",
              "    <tr style=\"text-align: right;\">\n",
              "      <th></th>\n",
              "      <th>DTOBITO</th>\n",
              "      <th>IDADE</th>\n",
              "      <th>SEXO</th>\n",
              "      <th>RACACOR</th>\n",
              "      <th>OCUP</th>\n",
              "      <th>LOCOCOR</th>\n",
              "      <th>ASSISTMED</th>\n",
              "      <th>CAUSABAS</th>\n",
              "      <th>TPOBITOCOR</th>\n",
              "      <th>NECROPSIA</th>\n",
              "      <th>SEXO_DESC</th>\n",
              "      <th>ASSISTMED_DESC</th>\n",
              "      <th>LOCOCOR_DESC</th>\n",
              "      <th>NECROPSIA_DESC</th>\n",
              "      <th>IDADE_ANOS</th>\n",
              "    </tr>\n",
              "  </thead>\n",
              "  <tbody>\n",
              "    <tr>\n",
              "      <th>225649</th>\n",
              "      <td>5092021</td>\n",
              "      <td>466</td>\n",
              "      <td>1</td>\n",
              "      <td>4.0</td>\n",
              "      <td>715505.0</td>\n",
              "      <td>1</td>\n",
              "      <td>1.0</td>\n",
              "      <td>R99</td>\n",
              "      <td>NaN</td>\n",
              "      <td>2.0</td>\n",
              "      <td>Masculino</td>\n",
              "      <td>Sim</td>\n",
              "      <td>Hospital</td>\n",
              "      <td>Não realizada</td>\n",
              "      <td>66</td>\n",
              "    </tr>\n",
              "    <tr>\n",
              "      <th>280731</th>\n",
              "      <td>20042021</td>\n",
              "      <td>443</td>\n",
              "      <td>2</td>\n",
              "      <td>4.0</td>\n",
              "      <td>999992.0</td>\n",
              "      <td>3</td>\n",
              "      <td>2.0</td>\n",
              "      <td>X959</td>\n",
              "      <td>9.0</td>\n",
              "      <td>1.0</td>\n",
              "      <td>Feminino</td>\n",
              "      <td>Não</td>\n",
              "      <td>Domicílio</td>\n",
              "      <td>Realizada</td>\n",
              "      <td>43</td>\n",
              "    </tr>\n",
              "    <tr>\n",
              "      <th>1515340</th>\n",
              "      <td>25042021</td>\n",
              "      <td>471</td>\n",
              "      <td>2</td>\n",
              "      <td>NaN</td>\n",
              "      <td>NaN</td>\n",
              "      <td>1</td>\n",
              "      <td>1.0</td>\n",
              "      <td>I509</td>\n",
              "      <td>NaN</td>\n",
              "      <td>2.0</td>\n",
              "      <td>Feminino</td>\n",
              "      <td>Sim</td>\n",
              "      <td>Hospital</td>\n",
              "      <td>Não realizada</td>\n",
              "      <td>71</td>\n",
              "    </tr>\n",
              "    <tr>\n",
              "      <th>1156536</th>\n",
              "      <td>24022021</td>\n",
              "      <td>473</td>\n",
              "      <td>1</td>\n",
              "      <td>1.0</td>\n",
              "      <td>999993.0</td>\n",
              "      <td>1</td>\n",
              "      <td>NaN</td>\n",
              "      <td>D599</td>\n",
              "      <td>NaN</td>\n",
              "      <td>NaN</td>\n",
              "      <td>Masculino</td>\n",
              "      <td>NaN</td>\n",
              "      <td>Hospital</td>\n",
              "      <td>NaN</td>\n",
              "      <td>73</td>\n",
              "    </tr>\n",
              "    <tr>\n",
              "      <th>1181779</th>\n",
              "      <td>11022021</td>\n",
              "      <td>454</td>\n",
              "      <td>1</td>\n",
              "      <td>2.0</td>\n",
              "      <td>NaN</td>\n",
              "      <td>1</td>\n",
              "      <td>9.0</td>\n",
              "      <td>B342</td>\n",
              "      <td>NaN</td>\n",
              "      <td>9.0</td>\n",
              "      <td>Masculino</td>\n",
              "      <td>Ignorado</td>\n",
              "      <td>Hospital</td>\n",
              "      <td>Ignorado</td>\n",
              "      <td>54</td>\n",
              "    </tr>\n",
              "  </tbody>\n",
              "</table>\n",
              "</div>\n",
              "    <div class=\"colab-df-buttons\">\n",
              "\n",
              "  <div class=\"colab-df-container\">\n",
              "    <button class=\"colab-df-convert\" onclick=\"convertToInteractive('df-dec538aa-1d48-46e2-a5c4-38b212809929')\"\n",
              "            title=\"Convert this dataframe to an interactive table.\"\n",
              "            style=\"display:none;\">\n",
              "\n",
              "  <svg xmlns=\"http://www.w3.org/2000/svg\" height=\"24px\" viewBox=\"0 -960 960 960\">\n",
              "    <path d=\"M120-120v-720h720v720H120Zm60-500h600v-160H180v160Zm220 220h160v-160H400v160Zm0 220h160v-160H400v160ZM180-400h160v-160H180v160Zm440 0h160v-160H620v160ZM180-180h160v-160H180v160Zm440 0h160v-160H620v160Z\"/>\n",
              "  </svg>\n",
              "    </button>\n",
              "\n",
              "  <style>\n",
              "    .colab-df-container {\n",
              "      display:flex;\n",
              "      gap: 12px;\n",
              "    }\n",
              "\n",
              "    .colab-df-convert {\n",
              "      background-color: #E8F0FE;\n",
              "      border: none;\n",
              "      border-radius: 50%;\n",
              "      cursor: pointer;\n",
              "      display: none;\n",
              "      fill: #1967D2;\n",
              "      height: 32px;\n",
              "      padding: 0 0 0 0;\n",
              "      width: 32px;\n",
              "    }\n",
              "\n",
              "    .colab-df-convert:hover {\n",
              "      background-color: #E2EBFA;\n",
              "      box-shadow: 0px 1px 2px rgba(60, 64, 67, 0.3), 0px 1px 3px 1px rgba(60, 64, 67, 0.15);\n",
              "      fill: #174EA6;\n",
              "    }\n",
              "\n",
              "    .colab-df-buttons div {\n",
              "      margin-bottom: 4px;\n",
              "    }\n",
              "\n",
              "    [theme=dark] .colab-df-convert {\n",
              "      background-color: #3B4455;\n",
              "      fill: #D2E3FC;\n",
              "    }\n",
              "\n",
              "    [theme=dark] .colab-df-convert:hover {\n",
              "      background-color: #434B5C;\n",
              "      box-shadow: 0px 1px 3px 1px rgba(0, 0, 0, 0.15);\n",
              "      filter: drop-shadow(0px 1px 2px rgba(0, 0, 0, 0.3));\n",
              "      fill: #FFFFFF;\n",
              "    }\n",
              "  </style>\n",
              "\n",
              "    <script>\n",
              "      const buttonEl =\n",
              "        document.querySelector('#df-dec538aa-1d48-46e2-a5c4-38b212809929 button.colab-df-convert');\n",
              "      buttonEl.style.display =\n",
              "        google.colab.kernel.accessAllowed ? 'block' : 'none';\n",
              "\n",
              "      async function convertToInteractive(key) {\n",
              "        const element = document.querySelector('#df-dec538aa-1d48-46e2-a5c4-38b212809929');\n",
              "        const dataTable =\n",
              "          await google.colab.kernel.invokeFunction('convertToInteractive',\n",
              "                                                    [key], {});\n",
              "        if (!dataTable) return;\n",
              "\n",
              "        const docLinkHtml = 'Like what you see? Visit the ' +\n",
              "          '<a target=\"_blank\" href=https://colab.research.google.com/notebooks/data_table.ipynb>data table notebook</a>'\n",
              "          + ' to learn more about interactive tables.';\n",
              "        element.innerHTML = '';\n",
              "        dataTable['output_type'] = 'display_data';\n",
              "        await google.colab.output.renderOutput(dataTable, element);\n",
              "        const docLink = document.createElement('div');\n",
              "        docLink.innerHTML = docLinkHtml;\n",
              "        element.appendChild(docLink);\n",
              "      }\n",
              "    </script>\n",
              "  </div>\n",
              "\n",
              "\n",
              "    <div id=\"df-734888f2-34e1-4001-bd92-c7ab0c9b5408\">\n",
              "      <button class=\"colab-df-quickchart\" onclick=\"quickchart('df-734888f2-34e1-4001-bd92-c7ab0c9b5408')\"\n",
              "                title=\"Suggest charts\"\n",
              "                style=\"display:none;\">\n",
              "\n",
              "<svg xmlns=\"http://www.w3.org/2000/svg\" height=\"24px\"viewBox=\"0 0 24 24\"\n",
              "     width=\"24px\">\n",
              "    <g>\n",
              "        <path d=\"M19 3H5c-1.1 0-2 .9-2 2v14c0 1.1.9 2 2 2h14c1.1 0 2-.9 2-2V5c0-1.1-.9-2-2-2zM9 17H7v-7h2v7zm4 0h-2V7h2v10zm4 0h-2v-4h2v4z\"/>\n",
              "    </g>\n",
              "</svg>\n",
              "      </button>\n",
              "\n",
              "<style>\n",
              "  .colab-df-quickchart {\n",
              "      --bg-color: #E8F0FE;\n",
              "      --fill-color: #1967D2;\n",
              "      --hover-bg-color: #E2EBFA;\n",
              "      --hover-fill-color: #174EA6;\n",
              "      --disabled-fill-color: #AAA;\n",
              "      --disabled-bg-color: #DDD;\n",
              "  }\n",
              "\n",
              "  [theme=dark] .colab-df-quickchart {\n",
              "      --bg-color: #3B4455;\n",
              "      --fill-color: #D2E3FC;\n",
              "      --hover-bg-color: #434B5C;\n",
              "      --hover-fill-color: #FFFFFF;\n",
              "      --disabled-bg-color: #3B4455;\n",
              "      --disabled-fill-color: #666;\n",
              "  }\n",
              "\n",
              "  .colab-df-quickchart {\n",
              "    background-color: var(--bg-color);\n",
              "    border: none;\n",
              "    border-radius: 50%;\n",
              "    cursor: pointer;\n",
              "    display: none;\n",
              "    fill: var(--fill-color);\n",
              "    height: 32px;\n",
              "    padding: 0;\n",
              "    width: 32px;\n",
              "  }\n",
              "\n",
              "  .colab-df-quickchart:hover {\n",
              "    background-color: var(--hover-bg-color);\n",
              "    box-shadow: 0 1px 2px rgba(60, 64, 67, 0.3), 0 1px 3px 1px rgba(60, 64, 67, 0.15);\n",
              "    fill: var(--button-hover-fill-color);\n",
              "  }\n",
              "\n",
              "  .colab-df-quickchart-complete:disabled,\n",
              "  .colab-df-quickchart-complete:disabled:hover {\n",
              "    background-color: var(--disabled-bg-color);\n",
              "    fill: var(--disabled-fill-color);\n",
              "    box-shadow: none;\n",
              "  }\n",
              "\n",
              "  .colab-df-spinner {\n",
              "    border: 2px solid var(--fill-color);\n",
              "    border-color: transparent;\n",
              "    border-bottom-color: var(--fill-color);\n",
              "    animation:\n",
              "      spin 1s steps(1) infinite;\n",
              "  }\n",
              "\n",
              "  @keyframes spin {\n",
              "    0% {\n",
              "      border-color: transparent;\n",
              "      border-bottom-color: var(--fill-color);\n",
              "      border-left-color: var(--fill-color);\n",
              "    }\n",
              "    20% {\n",
              "      border-color: transparent;\n",
              "      border-left-color: var(--fill-color);\n",
              "      border-top-color: var(--fill-color);\n",
              "    }\n",
              "    30% {\n",
              "      border-color: transparent;\n",
              "      border-left-color: var(--fill-color);\n",
              "      border-top-color: var(--fill-color);\n",
              "      border-right-color: var(--fill-color);\n",
              "    }\n",
              "    40% {\n",
              "      border-color: transparent;\n",
              "      border-right-color: var(--fill-color);\n",
              "      border-top-color: var(--fill-color);\n",
              "    }\n",
              "    60% {\n",
              "      border-color: transparent;\n",
              "      border-right-color: var(--fill-color);\n",
              "    }\n",
              "    80% {\n",
              "      border-color: transparent;\n",
              "      border-right-color: var(--fill-color);\n",
              "      border-bottom-color: var(--fill-color);\n",
              "    }\n",
              "    90% {\n",
              "      border-color: transparent;\n",
              "      border-bottom-color: var(--fill-color);\n",
              "    }\n",
              "  }\n",
              "</style>\n",
              "\n",
              "      <script>\n",
              "        async function quickchart(key) {\n",
              "          const quickchartButtonEl =\n",
              "            document.querySelector('#' + key + ' button');\n",
              "          quickchartButtonEl.disabled = true;  // To prevent multiple clicks.\n",
              "          quickchartButtonEl.classList.add('colab-df-spinner');\n",
              "          try {\n",
              "            const charts = await google.colab.kernel.invokeFunction(\n",
              "                'suggestCharts', [key], {});\n",
              "          } catch (error) {\n",
              "            console.error('Error during call to suggestCharts:', error);\n",
              "          }\n",
              "          quickchartButtonEl.classList.remove('colab-df-spinner');\n",
              "          quickchartButtonEl.classList.add('colab-df-quickchart-complete');\n",
              "        }\n",
              "        (() => {\n",
              "          let quickchartButtonEl =\n",
              "            document.querySelector('#df-734888f2-34e1-4001-bd92-c7ab0c9b5408 button');\n",
              "          quickchartButtonEl.style.display =\n",
              "            google.colab.kernel.accessAllowed ? 'block' : 'none';\n",
              "        })();\n",
              "      </script>\n",
              "    </div>\n",
              "\n",
              "    </div>\n",
              "  </div>\n"
            ],
            "application/vnd.google.colaboratory.intrinsic+json": {
              "type": "dataframe",
              "variable_name": "sim",
              "summary": "{\n  \"name\": \"sim\",\n  \"rows\": 100000,\n  \"fields\": [\n    {\n      \"column\": \"DTOBITO\",\n      \"properties\": {\n        \"dtype\": \"number\",\n        \"std\": 8794339,\n        \"min\": 1012021,\n        \"max\": 31122021,\n        \"num_unique_values\": 365,\n        \"samples\": [\n          11052021,\n          14042021,\n          26082021\n        ],\n        \"semantic_type\": \"\",\n        \"description\": \"\"\n      }\n    },\n    {\n      \"column\": \"IDADE\",\n      \"properties\": {\n        \"dtype\": \"number\",\n        \"std\": 19,\n        \"min\": 40,\n        \"max\": 499,\n        \"num_unique_values\": 108,\n        \"samples\": [\n          415,\n          441,\n          454\n        ],\n        \"semantic_type\": \"\",\n        \"description\": \"\"\n      }\n    },\n    {\n      \"column\": \"SEXO\",\n      \"properties\": {\n        \"dtype\": \"number\",\n        \"std\": 0,\n        \"min\": 0,\n        \"max\": 2,\n        \"num_unique_values\": 3,\n        \"samples\": [\n          1,\n          2,\n          0\n        ],\n        \"semantic_type\": \"\",\n        \"description\": \"\"\n      }\n    },\n    {\n      \"column\": \"RACACOR\",\n      \"properties\": {\n        \"dtype\": \"number\",\n        \"std\": 1.4165052813470642,\n        \"min\": 1.0,\n        \"max\": 5.0,\n        \"num_unique_values\": 5,\n        \"samples\": [\n          1.0,\n          5.0,\n          2.0\n        ],\n        \"semantic_type\": \"\",\n        \"description\": \"\"\n      }\n    },\n    {\n      \"column\": \"OCUP\",\n      \"properties\": {\n        \"dtype\": \"number\",\n        \"std\": 276633.96403444064,\n        \"min\": 10110.0,\n        \"max\": 999994.0,\n        \"num_unique_values\": 1218,\n        \"samples\": [\n          342520.0,\n          317210.0,\n          521125.0\n        ],\n        \"semantic_type\": \"\",\n        \"description\": \"\"\n      }\n    },\n    {\n      \"column\": \"LOCOCOR\",\n      \"properties\": {\n        \"dtype\": \"number\",\n        \"std\": 1,\n        \"min\": 1,\n        \"max\": 9,\n        \"num_unique_values\": 7,\n        \"samples\": [\n          1,\n          3,\n          9\n        ],\n        \"semantic_type\": \"\",\n        \"description\": \"\"\n      }\n    },\n    {\n      \"column\": \"ASSISTMED\",\n      \"properties\": {\n        \"dtype\": \"number\",\n        \"std\": 2.0411350561163597,\n        \"min\": 1.0,\n        \"max\": 9.0,\n        \"num_unique_values\": 3,\n        \"samples\": [\n          1.0,\n          2.0,\n          9.0\n        ],\n        \"semantic_type\": \"\",\n        \"description\": \"\"\n      }\n    },\n    {\n      \"column\": \"CAUSABAS\",\n      \"properties\": {\n        \"dtype\": \"category\",\n        \"num_unique_values\": 2424,\n        \"samples\": [\n          \"G720\",\n          \"K558\",\n          \"I069\"\n        ],\n        \"semantic_type\": \"\",\n        \"description\": \"\"\n      }\n    },\n    {\n      \"column\": \"TPOBITOCOR\",\n      \"properties\": {\n        \"dtype\": \"number\",\n        \"std\": 1.01925695692355,\n        \"min\": 1.0,\n        \"max\": 9.0,\n        \"num_unique_values\": 8,\n        \"samples\": [\n          7.0,\n          6.0,\n          9.0\n        ],\n        \"semantic_type\": \"\",\n        \"description\": \"\"\n      }\n    },\n    {\n      \"column\": \"NECROPSIA\",\n      \"properties\": {\n        \"dtype\": \"number\",\n        \"std\": 1.3623734542501371,\n        \"min\": 1.0,\n        \"max\": 9.0,\n        \"num_unique_values\": 3,\n        \"samples\": [\n          2.0,\n          1.0,\n          9.0\n        ],\n        \"semantic_type\": \"\",\n        \"description\": \"\"\n      }\n    },\n    {\n      \"column\": \"SEXO_DESC\",\n      \"properties\": {\n        \"dtype\": \"category\",\n        \"num_unique_values\": 3,\n        \"samples\": [\n          \"Masculino\",\n          \"Feminino\",\n          \"Ignorado\"\n        ],\n        \"semantic_type\": \"\",\n        \"description\": \"\"\n      }\n    },\n    {\n      \"column\": \"ASSISTMED_DESC\",\n      \"properties\": {\n        \"dtype\": \"category\",\n        \"num_unique_values\": 3,\n        \"samples\": [\n          \"Sim\",\n          \"N\\u00e3o\",\n          \"Ignorado\"\n        ],\n        \"semantic_type\": \"\",\n        \"description\": \"\"\n      }\n    },\n    {\n      \"column\": \"LOCOCOR_DESC\",\n      \"properties\": {\n        \"dtype\": \"category\",\n        \"num_unique_values\": 6,\n        \"samples\": [\n          \"Hospital\",\n          \"Domic\\u00edlio\",\n          \"Ignorado\"\n        ],\n        \"semantic_type\": \"\",\n        \"description\": \"\"\n      }\n    },\n    {\n      \"column\": \"NECROPSIA_DESC\",\n      \"properties\": {\n        \"dtype\": \"category\",\n        \"num_unique_values\": 3,\n        \"samples\": [\n          \"N\\u00e3o realizada\",\n          \"Realizada\",\n          \"Ignorado\"\n        ],\n        \"semantic_type\": \"\",\n        \"description\": \"\"\n      }\n    },\n    {\n      \"column\": \"IDADE_ANOS\",\n      \"properties\": {\n        \"dtype\": \"number\",\n        \"std\": 18,\n        \"min\": 1,\n        \"max\": 99,\n        \"num_unique_values\": 99,\n        \"samples\": [\n          55,\n          33,\n          4\n        ],\n        \"semantic_type\": \"\",\n        \"description\": \"\"\n      }\n    }\n  ]\n}"
            }
          },
          "metadata": {},
          "execution_count": 8
        }
      ]
    },
    {
      "cell_type": "markdown",
      "source": [
        "# **SIM - ANÁLISES DE PROBABILIDADES**"
      ],
      "metadata": {
        "id": "mBhJi_gSeS7C"
      }
    },
    {
      "cell_type": "code",
      "source": [
        "# @title { vertical-output: true, form-width: \"50%\" }\n",
        "# VALORES GERAIS DE INTERESSE\n",
        "\n",
        "# Tamanho amostral\n",
        "n_amostral = len(sim)\n",
        "print(f'Tamanho da Amostra: {n_amostral}')"
      ],
      "metadata": {
        "colab": {
          "base_uri": "https://localhost:8080/"
        },
        "id": "SEZe-MSMiKHB",
        "outputId": "341c9fec-6911-41f8-fde7-ec0173d03904"
      },
      "execution_count": 9,
      "outputs": [
        {
          "output_type": "stream",
          "name": "stdout",
          "text": [
            "Tamanho da Amostra: 100000\n"
          ]
        }
      ]
    },
    {
      "cell_type": "markdown",
      "source": [
        "## **1. Probabilidade Composta (União ou Interseção)**"
      ],
      "metadata": {
        "id": "aJS8u6qC5ghL"
      }
    },
    {
      "cell_type": "markdown",
      "source": [
        "### **1.1 Qual a probabilidade de óbito ser de uma mulher e causado por neoplasia maligna?**\n",
        "\n",
        "**Objetivo:** calcular 𝑃(𝐹 ∩ neoplasia)\n"
      ],
      "metadata": {
        "id": "pW4s3p7wARsJ"
      }
    },
    {
      "cell_type": "code",
      "source": [
        "# Regex para capturar códigos entre C00 e C97 com opcional 4º caractere alfanumérico\n",
        "regex_neoplasia = r'^C(0[0-9]|[1-8][0-9]|9[0-7])[A-Z0-9]?$'\n",
        "\n",
        "# Filtrando causas básicas que são neoplasias malignas\n",
        "filtro_neoplasia = sim['CAUSABAS'].astype(str).str.match(regex_neoplasia)\n",
        "\n",
        "# Filtra mulheres (assumindo '2' = feminino)\n",
        "filtro_mulher = sim['SEXO'] == 2\n",
        "\n",
        "# Combina filtros: mulher e causa neoplasia\n",
        "interseccao = sim[(filtro_neoplasia) & (filtro_mulher)]\n",
        "\n",
        "# Calcula a probabilidade conjunta P(F ∩ neoplasia)\n",
        "p_mulher_neoplasia = len(interseccao) / n_amostral\n",
        "\n",
        "print(f\"P(F ∩ neoplasia) = {p_mulher_neoplasia:.4f} → {p_mulher_neoplasia:.2%}\")"
      ],
      "metadata": {
        "colab": {
          "base_uri": "https://localhost:8080/"
        },
        "id": "6gvE-1Bu25vC",
        "outputId": "89aa3961-dbd1-4188-8da5-5b4095feab8b"
      },
      "execution_count": 10,
      "outputs": [
        {
          "output_type": "stream",
          "name": "stdout",
          "text": [
            "P(F ∩ neoplasia) = 0.0612 → 6.12%\n"
          ]
        }
      ]
    },
    {
      "cell_type": "markdown",
      "source": [
        "## **2. Probabilidade Condicional**"
      ],
      "metadata": {
        "id": "oBO_scydfAjc"
      }
    },
    {
      "cell_type": "markdown",
      "source": [
        "### **2.1 Probabilidade de óbito por causas violentas dado que a pessoa era jovem (15–29 anos)**\n",
        "\n",
        "**Objetivo:** calcular 𝑃 ( causa violenta ∣ idade 15–29 )"
      ],
      "metadata": {
        "id": "vD_3uBziDuvq"
      }
    },
    {
      "cell_type": "code",
      "source": [
        "# CRIAÇÃO DE FUNÇÕES AUXILIARES\n",
        "\n",
        "import re\n",
        "\n",
        "# Coletar somente os CIDs válidos para causa violenta\n",
        "def causa_violenta(cid):\n",
        "    if isinstance(cid, str):\n",
        "        match = re.match(r'^([A-Z])(\\d{2})', cid)\n",
        "        if match:\n",
        "            letra = match.group(1)\n",
        "            numero = int(match.group(2))\n",
        "            if letra == 'V':\n",
        "                return True\n",
        "            if letra == 'W':\n",
        "                return True\n",
        "            if letra == 'X':\n",
        "                return True\n",
        "            if letra == 'Y' and 10 <= numero <= 36:\n",
        "                return True\n",
        "    return False"
      ],
      "metadata": {
        "id": "tRIkcx0fGJ7_"
      },
      "execution_count": 11,
      "outputs": []
    },
    {
      "cell_type": "code",
      "source": [
        "# Filtrando jovens entre 15 e 29 anos\n",
        "filtro_jovens = sim['IDADE_ANOS'].between(15, 29)\n",
        "p_jovens = filtro_jovens.mean()\n",
        "\n",
        "# Filtrando causas básicas que são violentas\n",
        "filtro_violenta = sim['CAUSABAS'].apply(causa_violenta)\n",
        "\n",
        "# Combinando filtros: jovens e causa violenta\n",
        "interseccao = sim[(filtro_jovens) & (filtro_violenta)]\n",
        "p_interseccao = len(interseccao) / n_amostral\n",
        "\n",
        "# Calculando a probabilidade condicional\n",
        "p_violenta_dado_jovem = p_interseccao / p_jovens\n",
        "print(f\"P(Causa Violenta | Idade 15–29 anos) = {p_violenta_dado_jovem:.2%}\")"
      ],
      "metadata": {
        "colab": {
          "base_uri": "https://localhost:8080/"
        },
        "id": "s2QZ5OI3D8hl",
        "outputId": "3970b366-a989-48ec-b940-59c11f3886cc"
      },
      "execution_count": 28,
      "outputs": [
        {
          "output_type": "stream",
          "name": "stdout",
          "text": [
            "P(Causa Violenta | Idade 15–29 anos) = 58.62%\n"
          ]
        }
      ]
    },
    {
      "cell_type": "markdown",
      "source": [
        "## **3. Teorema de Bayes**"
      ],
      "metadata": {
        "id": "moDXMRlFfA-R"
      }
    },
    {
      "cell_type": "markdown",
      "source": [
        "### **3.1 Probabilidade de um óbito ter ocorrido no domicílio dado que não houve assistência médica**\n",
        "\n",
        "**Objetivo:** calcular 𝑃 (óbito no domicílio | sem assistência médica)"
      ],
      "metadata": {
        "id": "1ei-9Se8SA8B"
      }
    },
    {
      "cell_type": "code",
      "source": [
        "# Calculando P(A)\n",
        "p_domicilio = (sim['LOCOCOR'] == 3).mean()\n",
        "\n",
        "# Calculando P(B)\n",
        "p_sem_assistencia = (sim['ASSISTMED'] == 2).mean()\n",
        "\n",
        "# Filtrando óbitos em domicílio\n",
        "filtro_domicilio = sim['LOCOCOR'] == 3\n",
        "\n",
        "# Dado que morreu no domicílio, qual a proporção sem assistência?\n",
        "p_sem_dado_domicilio = (sim[filtro_domicilio]['ASSISTMED'] == 2).mean()\n",
        "\n",
        "# Calculando\n",
        "p_domicilio_dado_sem = (p_sem_dado_domicilio * p_domicilio) / p_sem_assistencia\n",
        "print(f\"P(Domicílio | Sem assistência médica) = {p_domicilio_dado_sem:.2%}\")"
      ],
      "metadata": {
        "colab": {
          "base_uri": "https://localhost:8080/"
        },
        "id": "q-EqdM5IQ77x",
        "outputId": "b4af5fca-c8a3-4c03-d694-9e06754718cf"
      },
      "execution_count": 27,
      "outputs": [
        {
          "output_type": "stream",
          "name": "stdout",
          "text": [
            "P(Domicílio | Sem assistência médica) = 55.66%\n"
          ]
        }
      ]
    },
    {
      "cell_type": "markdown",
      "source": [
        "## **4. Distribuições Discretas**"
      ],
      "metadata": {
        "id": "VhmK3iwifCEL"
      }
    },
    {
      "cell_type": "markdown",
      "source": [
        "### **4.1 Distribuição Binomial**\n",
        "\n",
        "Em uma amostra de 10 certidões aleatórias, qual a probabilidade de exatamente 4 terem causa “cardiovascular”?"
      ],
      "metadata": {
        "id": "LfRGBCeqn0xD"
      }
    },
    {
      "cell_type": "code",
      "source": [
        "# Verificando se o código CAUSABAS começa com \"I\"\n",
        "filtro_cardiovascular = sim['CAUSABAS'].astype(str).str.startswith('I')\n",
        "\n",
        "# Calculando a proporção na amostra\n",
        "p_cardiovascular = filtro_cardiovascular.mean()\n",
        "\n",
        "print(f\"P(Causa cardiovascular) na amostra = {p_cardiovascular:.4f} → {p_cardiovascular:.2%}\")\n",
        "\n",
        "# Parâmetros da distribuição binomial\n",
        "n = 10\n",
        "k = 4\n",
        "p = p_cardiovascular  # estimado do dataset\n",
        "\n",
        "# Distribuição Binomial\n",
        "prob = binom.pmf(k, n, p)\n",
        "print(f\"P(X = 4) com p estimado = {prob:.4f} → {prob:.2%}\")\n",
        "\n",
        "# Gerando o gráfico\n",
        "x = range(0, 11)\n",
        "y = binom.pmf(x, n=10, p=p_cardiovascular)\n",
        "\n",
        "plt.bar(x, y)\n",
        "plt.title('Distribuição Binomial – Óbitos Cardiovasculares em 10 Certidões')\n",
        "plt.xlabel('Número de certidões com causa cardiovascular')\n",
        "plt.ylabel('Probabilidade')\n",
        "plt.show()"
      ],
      "metadata": {
        "colab": {
          "base_uri": "https://localhost:8080/",
          "height": 512
        },
        "id": "1DyMGrPQS2kJ",
        "outputId": "f57a8f0c-51b9-466e-e91f-76407ef677d5"
      },
      "execution_count": 14,
      "outputs": [
        {
          "output_type": "stream",
          "name": "stdout",
          "text": [
            "P(Causa cardiovascular) na amostra = 0.2127 → 21.27%\n",
            "P(X = 4) com p estimado = 0.1023 → 10.23%\n"
          ]
        },
        {
          "output_type": "display_data",
          "data": {
            "text/plain": [
              "<Figure size 640x480 with 1 Axes>"
            ],
            "image/png": "[encoded data removed]"
          },
          "metadata": {}
        }
      ]
    },
    {
      "cell_type": "markdown",
      "source": [
        "### **4.2 Distribuição de Poisson**\n",
        "\n",
        "Em uma amostra de 10 certidões aleatórias, qual a probabilidade de exatamente 4 terem causa “cardiovascular”?"
      ],
      "metadata": {
        "id": "B2FBITDaptiB"
      }
    },
    {
      "cell_type": "code",
      "source": [
        "# Convertendo data\n",
        "sim['DTOBITO_DATA'] = pd.to_datetime(sim['DTOBITO'], format='%d%m%Y', errors='coerce')\n",
        "\n",
        "# Filtrando para COVID (corretamente)\n",
        "filtro_covid = sim['CAUSABAS'].isin(['B342'])\n",
        "\n",
        "# Agrupando por data\n",
        "mortes_por_dia = sim[filtro_covid].groupby(sim['DTOBITO_DATA'].dt.date).size()\n",
        "\n",
        "# λ = média diária\n",
        "lambda_covid = mortes_por_dia.mean()\n",
        "print(f\"Média diária (λ) = {lambda_covid:.2f}\")\n",
        "\n",
        "k = 60  # por exemplo\n",
        "p = poisson.pmf(k, mu=lambda_covid)\n",
        "print(f\"P(X = {k} mortes) = {p:.4f} → {p:.2%}\")\n",
        "\n",
        "# Distribuição de Poisson\n",
        "k_vals = range(int(lambda_covid - 3 * lambda_covid**0.5), int(lambda_covid + 3 * lambda_covid**0.5))\n",
        "probs = poisson.pmf(k_vals, mu=lambda_covid)\n",
        "\n",
        "#mortes_por_dia.plot(figsize=(14, 5), title='Óbitos por dia em 2021')\n",
        "\n",
        "# Gráfico\n",
        "plt.figure(figsize=(10, 5))\n",
        "plt.bar(k_vals, probs)\n",
        "plt.title(f'Distribuição de Poisson – COVID-19 (λ = {lambda_covid:.2f})')\n",
        "plt.xlabel('Número de mortes por dia')\n",
        "plt.ylabel('Probabilidade')\n",
        "plt.grid(True)\n",
        "plt.show()"
      ],
      "metadata": {
        "colab": {
          "base_uri": "https://localhost:8080/",
          "height": 525
        },
        "id": "qAvN3ehPVwX9",
        "outputId": "465ab3a6-06a7-4d57-f60f-da5411dd36e9"
      },
      "execution_count": 31,
      "outputs": [
        {
          "output_type": "stream",
          "name": "stdout",
          "text": [
            "Média diária (λ) = 70.59\n",
            "P(X = 60 mortes) = 0.0223 → 2.23%\n"
          ]
        },
        {
          "output_type": "display_data",
          "data": {
            "text/plain": [
              "<Figure size 1000x500 with 1 Axes>"
            ],
            "image/png": "[encoded data removed]"
          },
          "metadata": {}
        }
      ]
    }
  ]
}